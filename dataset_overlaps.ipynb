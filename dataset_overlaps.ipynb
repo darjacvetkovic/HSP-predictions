{
 "cells": [
  {
   "cell_type": "markdown",
   "metadata": {},
   "source": [
    "Testing for overlaps in the datasets"
   ]
  },
  {
   "cell_type": "code",
   "execution_count": 1,
   "metadata": {},
   "outputs": [],
   "source": [
    "import pandas as pd"
   ]
  },
  {
   "cell_type": "code",
   "execution_count": 2,
   "metadata": {},
   "outputs": [],
   "source": [
    "training = pd.read_csv(\"data/HSP_SMILES.csv\",encoding='unicode_escape',index_col=0)\n",
    "data_6 = pd.read_csv(\"data/data_from_6.csv\",encoding='unicode_escape')\n",
    "data_42 = pd.read_csv(\"data/data_from_42.csv\",encoding='unicode_escape')"
   ]
  },
  {
   "cell_type": "code",
   "execution_count": 3,
   "metadata": {},
   "outputs": [
    {
     "data": {
      "text/html": [
       "<div>\n",
       "<style scoped>\n",
       "    .dataframe tbody tr th:only-of-type {\n",
       "        vertical-align: middle;\n",
       "    }\n",
       "\n",
       "    .dataframe tbody tr th {\n",
       "        vertical-align: top;\n",
       "    }\n",
       "\n",
       "    .dataframe thead th {\n",
       "        text-align: right;\n",
       "    }\n",
       "</style>\n",
       "<table border=\"1\" class=\"dataframe\">\n",
       "  <thead>\n",
       "    <tr style=\"text-align: right;\">\n",
       "      <th></th>\n",
       "      <th>al</th>\n",
       "      <th>CAS</th>\n",
       "      <th>smiles</th>\n",
       "      <th>Î´D</th>\n",
       "      <th>Î´P</th>\n",
       "      <th>Î´H</th>\n",
       "    </tr>\n",
       "  </thead>\n",
       "  <tbody>\n",
       "    <tr>\n",
       "      <th>0</th>\n",
       "      <td>1,1,1,2-Tetrachloroethane</td>\n",
       "      <td>b'630-20-6'</td>\n",
       "      <td>ClCC(Cl)(Cl)Cl</td>\n",
       "      <td>18.0</td>\n",
       "      <td>4.4</td>\n",
       "      <td>4.2</td>\n",
       "    </tr>\n",
       "    <tr>\n",
       "      <th>1</th>\n",
       "      <td>1,1,1-Trichloroethane</td>\n",
       "      <td>b'71-55-6'</td>\n",
       "      <td>CC(Cl)(Cl)Cl</td>\n",
       "      <td>16.8</td>\n",
       "      <td>4.3</td>\n",
       "      <td>2.0</td>\n",
       "    </tr>\n",
       "    <tr>\n",
       "      <th>2</th>\n",
       "      <td>1,1,1-Trifluoroethane</td>\n",
       "      <td>b'420-46-2'</td>\n",
       "      <td>CC(F)(F)F</td>\n",
       "      <td>14.6</td>\n",
       "      <td>10.0</td>\n",
       "      <td>0.0</td>\n",
       "    </tr>\n",
       "    <tr>\n",
       "      <th>3</th>\n",
       "      <td>1,1,2,2-Tetrabromoethane</td>\n",
       "      <td>b'79-27-6'</td>\n",
       "      <td>BrC(Br)C(Br)Br</td>\n",
       "      <td>21.0</td>\n",
       "      <td>7.0</td>\n",
       "      <td>8.2</td>\n",
       "    </tr>\n",
       "    <tr>\n",
       "      <th>4</th>\n",
       "      <td>1,1,2,2-Tetrachloroethane</td>\n",
       "      <td>b'79-34-5'</td>\n",
       "      <td>ClC(Cl)C(Cl)Cl</td>\n",
       "      <td>18.8</td>\n",
       "      <td>5.1</td>\n",
       "      <td>5.3</td>\n",
       "    </tr>\n",
       "  </tbody>\n",
       "</table>\n",
       "</div>"
      ],
      "text/plain": [
       "                          al          CAS          smiles   Î´D   Î´P  Î´H\n",
       "0  1,1,1,2-Tetrachloroethane  b'630-20-6'  ClCC(Cl)(Cl)Cl  18.0   4.4  4.2\n",
       "1      1,1,1-Trichloroethane   b'71-55-6'    CC(Cl)(Cl)Cl  16.8   4.3  2.0\n",
       "2      1,1,1-Trifluoroethane  b'420-46-2'       CC(F)(F)F  14.6  10.0  0.0\n",
       "3   1,1,2,2-Tetrabromoethane   b'79-27-6'  BrC(Br)C(Br)Br  21.0   7.0  8.2\n",
       "4  1,1,2,2-Tetrachloroethane   b'79-34-5'  ClC(Cl)C(Cl)Cl  18.8   5.1  5.3"
      ]
     },
     "execution_count": 3,
     "metadata": {},
     "output_type": "execute_result"
    }
   ],
   "source": [
    "training.head()"
   ]
  },
  {
   "cell_type": "code",
   "execution_count": 4,
   "metadata": {},
   "outputs": [
    {
     "data": {
      "text/html": [
       "<div>\n",
       "<style scoped>\n",
       "    .dataframe tbody tr th:only-of-type {\n",
       "        vertical-align: middle;\n",
       "    }\n",
       "\n",
       "    .dataframe tbody tr th {\n",
       "        vertical-align: top;\n",
       "    }\n",
       "\n",
       "    .dataframe thead th {\n",
       "        text-align: right;\n",
       "    }\n",
       "</style>\n",
       "<table border=\"1\" class=\"dataframe\">\n",
       "  <thead>\n",
       "    <tr style=\"text-align: right;\">\n",
       "      <th></th>\n",
       "      <th>Name</th>\n",
       "      <th>Smile</th>\n",
       "      <th>total</th>\n",
       "      <th>H</th>\n",
       "      <th>P</th>\n",
       "      <th>D</th>\n",
       "    </tr>\n",
       "  </thead>\n",
       "  <tbody>\n",
       "    <tr>\n",
       "      <th>0</th>\n",
       "      <td>PROPANE</td>\n",
       "      <td>CCC</td>\n",
       "      <td>13.1</td>\n",
       "      <td>0.0</td>\n",
       "      <td>0.0</td>\n",
       "      <td>13.1</td>\n",
       "    </tr>\n",
       "    <tr>\n",
       "      <th>1</th>\n",
       "      <td>BUTANE</td>\n",
       "      <td>CCCC</td>\n",
       "      <td>14.1</td>\n",
       "      <td>0.0</td>\n",
       "      <td>0.0</td>\n",
       "      <td>14.1</td>\n",
       "    </tr>\n",
       "    <tr>\n",
       "      <th>2</th>\n",
       "      <td>PENTANE</td>\n",
       "      <td>CCCCC</td>\n",
       "      <td>14.4</td>\n",
       "      <td>0.0</td>\n",
       "      <td>0.0</td>\n",
       "      <td>14.4</td>\n",
       "    </tr>\n",
       "    <tr>\n",
       "      <th>3</th>\n",
       "      <td>HEXANE</td>\n",
       "      <td>CCCCCC</td>\n",
       "      <td>14.9</td>\n",
       "      <td>0.0</td>\n",
       "      <td>0.0</td>\n",
       "      <td>14.9</td>\n",
       "    </tr>\n",
       "    <tr>\n",
       "      <th>4</th>\n",
       "      <td>HEPTANE</td>\n",
       "      <td>CCCCCCC</td>\n",
       "      <td>15.2</td>\n",
       "      <td>0.0</td>\n",
       "      <td>0.0</td>\n",
       "      <td>15.2</td>\n",
       "    </tr>\n",
       "  </tbody>\n",
       "</table>\n",
       "</div>"
      ],
      "text/plain": [
       "      Name    Smile  total    H    P     D\n",
       "0  PROPANE      CCC   13.1  0.0  0.0  13.1\n",
       "1   BUTANE     CCCC   14.1  0.0  0.0  14.1\n",
       "2  PENTANE    CCCCC   14.4  0.0  0.0  14.4\n",
       "3   HEXANE   CCCCCC   14.9  0.0  0.0  14.9\n",
       "4  HEPTANE  CCCCCCC   15.2  0.0  0.0  15.2"
      ]
     },
     "execution_count": 4,
     "metadata": {},
     "output_type": "execute_result"
    }
   ],
   "source": [
    "data_6.head()"
   ]
  },
  {
   "cell_type": "code",
   "execution_count": 5,
   "metadata": {},
   "outputs": [
    {
     "data": {
      "text/plain": [
       "'CCC'"
      ]
     },
     "execution_count": 5,
     "metadata": {},
     "output_type": "execute_result"
    }
   ],
   "source": [
    "data_6[\"Smile\"][0]"
   ]
  },
  {
   "cell_type": "code",
   "execution_count": 6,
   "metadata": {},
   "outputs": [
    {
     "data": {
      "text/html": [
       "<div>\n",
       "<style scoped>\n",
       "    .dataframe tbody tr th:only-of-type {\n",
       "        vertical-align: middle;\n",
       "    }\n",
       "\n",
       "    .dataframe tbody tr th {\n",
       "        vertical-align: top;\n",
       "    }\n",
       "\n",
       "    .dataframe thead th {\n",
       "        text-align: right;\n",
       "    }\n",
       "</style>\n",
       "<table border=\"1\" class=\"dataframe\">\n",
       "  <thead>\n",
       "    <tr style=\"text-align: right;\">\n",
       "      <th></th>\n",
       "      <th>Name</th>\n",
       "      <th>Smile</th>\n",
       "    </tr>\n",
       "  </thead>\n",
       "  <tbody>\n",
       "    <tr>\n",
       "      <th>0</th>\n",
       "      <td>1,3- butadien</td>\n",
       "      <td>C=CC=CÂ Â</td>\n",
       "    </tr>\n",
       "    <tr>\n",
       "      <th>1</th>\n",
       "      <td>1,3-BUTANEDIOL</td>\n",
       "      <td>CC(CCO)O</td>\n",
       "    </tr>\n",
       "    <tr>\n",
       "      <th>2</th>\n",
       "      <td>1,4 Dioxane</td>\n",
       "      <td>C1COCCO1</td>\n",
       "    </tr>\n",
       "    <tr>\n",
       "      <th>3</th>\n",
       "      <td>1-Chlorobutane</td>\n",
       "      <td>Â CCCCClÂ Â</td>\n",
       "    </tr>\n",
       "    <tr>\n",
       "      <th>4</th>\n",
       "      <td>1-Pentanol</td>\n",
       "      <td>CCCCCOÂ Â</td>\n",
       "    </tr>\n",
       "  </tbody>\n",
       "</table>\n",
       "</div>"
      ],
      "text/plain": [
       "             Name         Smile\n",
       "0   1,3- butadien    C=CC=CÂ Â \n",
       "1  1,3-BUTANEDIOL      CC(CCO)O\n",
       "2     1,4 Dioxane      C1COCCO1\n",
       "3  1-Chlorobutane  Â CCCCClÂ Â \n",
       "4      1-Pentanol    CCCCCOÂ Â "
      ]
     },
     "execution_count": 6,
     "metadata": {},
     "output_type": "execute_result"
    }
   ],
   "source": [
    "data_42.head()"
   ]
  },
  {
   "cell_type": "code",
   "execution_count": 24,
   "metadata": {},
   "outputs": [
    {
     "data": {
      "text/plain": [
       "(84, 2)"
      ]
     },
     "execution_count": 24,
     "metadata": {},
     "output_type": "execute_result"
    }
   ],
   "source": [
    "data_6.shape"
   ]
  },
  {
   "cell_type": "code",
   "execution_count": 19,
   "metadata": {},
   "outputs": [
    {
     "name": "stdout",
     "output_type": "stream",
     "text": [
      "CCC\n",
      "CCCC\n",
      "CCCCC\n",
      "CCCCCC\n",
      "CCCCCCC\n",
      "CCCCCCCC\n",
      "CCCCCCCCC\n",
      "CCCCCCCCCC\n",
      "CCCCCCCCCCC\n",
      "CCCCCCCCCCCC\n",
      "CC(C)CC(C)(C)C\n",
      "C1CCCCC1\n",
      "CC(=O)OC=C\n",
      "O=C1CCCCCO1\n",
      "CCOCC\n",
      "C1COCCO1\n",
      "CO\n",
      "CCO\n",
      "CCCO\n",
      "CCCCO\n",
      "CCCCCO\n",
      "CCCCCCCCO\n",
      "CCCCCCCCCCO\n",
      "CCNCC\n",
      "CCCCN\n",
      "C1CCOC1\n",
      "CN(C)C=O\n",
      "C=CC#N\n",
      "(31, 6)\n"
     ]
    }
   ],
   "source": [
    "i=0\n",
    "for smile in data_6['Smile']:\n",
    "    #print(smile)\n",
    "    if smile in training['smiles'].to_list():\n",
    "        print(smile)\n",
    "        data_6.drop(data_6[data_6['Smile']==smile].index,inplace=True)\n",
    "        i+=1\n",
    "print(data_6.shape)        \n",
    "#print (f'{i}/{data_6.shape[0]} is the same')"
   ]
  },
  {
   "cell_type": "code",
   "execution_count": 20,
   "metadata": {},
   "outputs": [],
   "source": [
    "data_6.to_csv(\"data/data_from_6_filtered.csv\")"
   ]
  },
  {
   "cell_type": "code",
   "execution_count": 23,
   "metadata": {},
   "outputs": [
    {
     "name": "stdout",
     "output_type": "stream",
     "text": [
      "(84, 2)\n"
     ]
    }
   ],
   "source": [
    "i=0\n",
    "for smile in data_42['Smile']:\n",
    "    #print(smile)\n",
    "    if smile in training['smiles'].to_list():\n",
    "        print(smile)\n",
    "        data_42.drop(data_42[data_42['Smile']==smile].index,inplace=True)\n",
    "        i+=1\n",
    "print(data_42.shape)        \n",
    "#print (f'{i}/{data_6.shape[0]} is the same')"
   ]
  },
  {
   "cell_type": "code",
   "execution_count": 25,
   "metadata": {},
   "outputs": [],
   "source": [
    "data_42.to_csv(\"data/data_from_42_filtered.csv\")"
   ]
  },
  {
   "cell_type": "code",
   "execution_count": 21,
   "metadata": {},
   "outputs": [
    {
     "name": "stdout",
     "output_type": "stream",
     "text": [
      "C=CC(=O)O\n",
      "1/31 is the same\n"
     ]
    }
   ],
   "source": [
    "i=0\n",
    "for smile in data_42['Smile']:\n",
    "    #print(smile)\n",
    "    if smile in data_6['Smile'].to_list():\n",
    "        print(smile)\n",
    "        i+=1\n",
    "        \n",
    "print (f'{i}/{data_6.shape[0]} is the same')"
   ]
  },
  {
   "cell_type": "code",
   "execution_count": 14,
   "metadata": {},
   "outputs": [],
   "source": [
    "for smile in data_6['Name'].to_list():\n",
    "    #print(smile)\n",
    "    if smile.lower() in data_42['Name'].to_list():\n",
    "        print(smile)"
   ]
  },
  {
   "cell_type": "code",
   "execution_count": 34,
   "metadata": {},
   "outputs": [
    {
     "data": {
      "text/html": [
       "<div>\n",
       "<style scoped>\n",
       "    .dataframe tbody tr th:only-of-type {\n",
       "        vertical-align: middle;\n",
       "    }\n",
       "\n",
       "    .dataframe tbody tr th {\n",
       "        vertical-align: top;\n",
       "    }\n",
       "\n",
       "    .dataframe thead th {\n",
       "        text-align: right;\n",
       "    }\n",
       "</style>\n",
       "<table border=\"1\" class=\"dataframe\">\n",
       "  <thead>\n",
       "    <tr style=\"text-align: right;\">\n",
       "      <th></th>\n",
       "      <th>key</th>\n",
       "      <th>Type</th>\n",
       "      <th>δd</th>\n",
       "      <th>δp</th>\n",
       "      <th>δh</th>\n",
       "      <th>smiles</th>\n",
       "      <th>ID_type</th>\n",
       "      <th>ID</th>\n",
       "    </tr>\n",
       "  </thead>\n",
       "  <tbody>\n",
       "    <tr>\n",
       "      <th>0</th>\n",
       "      <td>1,1,1-Trichloroethane</td>\n",
       "      <td>Solvent</td>\n",
       "      <td>16.8</td>\n",
       "      <td>4.3</td>\n",
       "      <td>2.0</td>\n",
       "      <td>CC(Cl)(Cl)Cl</td>\n",
       "      <td>CAS</td>\n",
       "      <td>71-55-6</td>\n",
       "    </tr>\n",
       "    <tr>\n",
       "      <th>1</th>\n",
       "      <td>1,3-Butanediol</td>\n",
       "      <td>Solvent</td>\n",
       "      <td>16.6</td>\n",
       "      <td>10.0</td>\n",
       "      <td>21.5</td>\n",
       "      <td>CC(O)CCO</td>\n",
       "      <td>CAS</td>\n",
       "      <td>107-88-0</td>\n",
       "    </tr>\n",
       "    <tr>\n",
       "      <th>2</th>\n",
       "      <td>1,4-Butandiol Diacrylate</td>\n",
       "      <td>Solvent</td>\n",
       "      <td>16.8</td>\n",
       "      <td>9.1</td>\n",
       "      <td>4.2</td>\n",
       "      <td>C=CC(=O)OCCCCOC(=O)C=C</td>\n",
       "      <td>CAS</td>\n",
       "      <td>1070-70-8</td>\n",
       "    </tr>\n",
       "    <tr>\n",
       "      <th>3</th>\n",
       "      <td>1,4-Dioxane</td>\n",
       "      <td>Solvent</td>\n",
       "      <td>19.0</td>\n",
       "      <td>1.8</td>\n",
       "      <td>7.4</td>\n",
       "      <td>C1COCCO1</td>\n",
       "      <td>CAS</td>\n",
       "      <td>123-91-1</td>\n",
       "    </tr>\n",
       "    <tr>\n",
       "      <th>4</th>\n",
       "      <td>1-Bromonaphthalene</td>\n",
       "      <td>Solvent</td>\n",
       "      <td>20.3</td>\n",
       "      <td>3.1</td>\n",
       "      <td>4.1</td>\n",
       "      <td>Brc1cccc2ccccc12</td>\n",
       "      <td>CAS</td>\n",
       "      <td>90-11-9</td>\n",
       "    </tr>\n",
       "  </tbody>\n",
       "</table>\n",
       "</div>"
      ],
      "text/plain": [
       "                        key     Type    δd    δp    δh  \\\n",
       "0     1,1,1-Trichloroethane  Solvent  16.8   4.3   2.0   \n",
       "1            1,3-Butanediol  Solvent  16.6  10.0  21.5   \n",
       "2  1,4-Butandiol Diacrylate  Solvent  16.8   9.1   4.2   \n",
       "3               1,4-Dioxane  Solvent  19.0   1.8   7.4   \n",
       "4        1-Bromonaphthalene  Solvent  20.3   3.1   4.1   \n",
       "\n",
       "                   smiles ID_type         ID  \n",
       "0            CC(Cl)(Cl)Cl     CAS    71-55-6  \n",
       "1                CC(O)CCO     CAS   107-88-0  \n",
       "2  C=CC(=O)OCCCCOC(=O)C=C     CAS  1070-70-8  \n",
       "3                C1COCCO1     CAS   123-91-1  \n",
       "4        Brc1cccc2ccccc12     CAS    90-11-9  "
      ]
     },
     "execution_count": 34,
     "metadata": {},
     "output_type": "execute_result"
    }
   ],
   "source": [
    "hspip=pd.read_csv('/home/darja/HSP-predictions/data/Solvents_exp.csv')\n",
    "hspip.head()"
   ]
  },
  {
   "cell_type": "code",
   "execution_count": 35,
   "metadata": {},
   "outputs": [
    {
     "name": "stdout",
     "output_type": "stream",
     "text": [
      "CC(Cl)(Cl)Cl\n",
      "CC(O)CCO\n",
      "C=CC(=O)OCCCCOC(=O)C=C\n",
      "C1COCCO1\n",
      "Brc1cccc2ccccc12\n",
      "CCCCO\n",
      "CCCCCl\n",
      "CCCCCO\n",
      "CCCO\n",
      "CCC(C)O\n",
      "CCCCC(CC)COC(C)=O\n",
      "CCC(CC)CO\n",
      "CCCCC(CC)CO\n",
      "CC(C)O\n",
      "O=C1CCCN1\n",
      "OCCCCl\n",
      "CC(=O)OC(C)=O\n",
      "CC(C)=O\n",
      "CC#N\n",
      "CC(=O)c1ccccc1\n",
      "CC(=O)CC(C)=O\n",
      "C=CC#N\n",
      "Nc1ccccc1\n",
      "COc1ccccc1\n",
      "O=Cc1ccccc1\n",
      "c1ccccc1\n",
      "OCc1ccccc1\n",
      "CCCCOC(=O)C(C)O\n",
      "CCCC#N\n",
      "O=C=O\n",
      "S=C=S\n",
      "ClC(Cl)(Cl)Cl\n",
      "Clc1ccccc1\n",
      "ClC(Cl)Cl\n",
      "C1CCCCC1\n",
      "OC1CCCCC1\n",
      "O=C1CCCCC1\n",
      "NC1CCCCC1\n",
      "ClC1CCCCC1\n",
      "ClCCOCCCl\n",
      "CC(=O)CC(C)(C)O\n",
      "CCCCOC(=O)c1ccccc1C(=O)OCCCC\n",
      "CCNCC\n",
      "CCOCC\n",
      "CCSCC\n",
      "OCCOCCO\n",
      "CCCCOCCOCCOC(C)=O\n",
      "COCCOCCOC(C)(C)C\n",
      "CCCCOCCOCCO\n",
      "CCOCCOCCO\n",
      "CCOCCOCCOC(C)=O\n",
      "COCCOCCO\n",
      "NCCNCCN\n",
      "CC(C)CC(O)CC(C)C\n",
      "CC(C)CC(=O)CC(C)C\n",
      "COCOC\n",
      "CN(C)CCO\n",
      "CN(C)C=O\n",
      "COC(=O)c1ccccc1C(=O)OC\n",
      "CCCCCCCCOC(=O)CCCCC(=O)OCCCCCCCC\n",
      "CCCCC(CC)COC(=O)c1ccccc1C(=O)OCC(CC)CCCC\n",
      "CCCNCCC\n",
      "OCCCOCCCO\n",
      "COCCCOCCCO\n",
      "ClCC1CO1\n",
      "CCO\n",
      "NCCO\n",
      "CCOC(C)=O\n",
      "CCc1ccccc1\n",
      "CCOC(=O)C(C)O\n",
      "O=C1OCCO1\n",
      "ClCCCl\n",
      "OCCO\n",
      "CCCCOCCOCC\n",
      "CC(C)(C)OCCOC(C)(C)C\n",
      "COCCOC(C)(C)C\n",
      "CC(C)(C)OCCO\n",
      "CCCCOCCO\n",
      "CCOCCO\n",
      "CCOCCOC(C)=O\n",
      "CC(C)COCCO\n",
      "COCCO\n",
      "NC=O\n",
      "O=C1CCCO1\n",
      "OCC(O)CO\n",
      "OC(C(F)(F)F)C(F)(F)F\n",
      "CCCCCC\n",
      "CC(C)CO\n",
      "CC(C)COC(=O)C(C)C\n",
      "CC1=CC(=O)CC(C)(C)C1\n",
      "Cc1cccc(O)c1\n",
      "CO\n",
      "COC(C)=O\n",
      "CCC(C)=O\n",
      "CC(C)CC(C)O\n",
      "ClCCl\n",
      "C1COCCN1\n",
      "c1ccc2ccccc2c1\n",
      "CCCCOC(C)=O\n",
      "CN1CCCC1=O\n",
      "Clc1ccccc1Cl\n",
      "COC(C)(C)CC(C)=O\n",
      "CC1COC(=O)O1\n",
      "CC(O)CO\n",
      "COCC(C)O\n",
      "Cc1ccc(C)cc1\n",
      "c1ccncc1\n",
      "C=Cc1ccccc1\n",
      "CC(C)(C)O\n",
      "C1CCOC1\n",
      "OCC1CCCO1\n",
      "CN(C)C(=O)N(C)C\n",
      "Cc1ccccc1\n",
      "ClC=C(Cl)Cl\n",
      "CCN(CC)CC\n",
      "NC(N)=O\n",
      "116 (77, 8)\n"
     ]
    }
   ],
   "source": [
    "i=0\n",
    "for smile in hspip['smiles']:\n",
    "    #print(smile)\n",
    "    if smile in training['smiles'].to_list():\n",
    "        print(smile)\n",
    "        hspip.drop(hspip[hspip['smiles']==smile].index,inplace=True)\n",
    "        i+=1\n",
    "print(i,hspip.shape)        "
   ]
  },
  {
   "cell_type": "code",
   "execution_count": 39,
   "metadata": {},
   "outputs": [
    {
     "name": "stdout",
     "output_type": "stream",
     "text": [
      "0 (31, 6)\n"
     ]
    }
   ],
   "source": [
    "i=0\n",
    "for smile in data_42['Smile']:\n",
    "    #print(smile)\n",
    "    if smile in hspip['smiles'].to_list():\n",
    "        print(smile)\n",
    "        hspip.drop(hspip[hspip['smiles']==smile].index,inplace=True)\n",
    "        i+=1\n",
    "print(i,data_6.shape)        \n",
    "#print (f'{i}/{data_6.shape[0]} is the same')"
   ]
  },
  {
   "cell_type": "code",
   "execution_count": 40,
   "metadata": {},
   "outputs": [],
   "source": [
    "hspip.reset_index(inplace=True,drop=True)\n",
    "hspip.to_csv('data/Solvents_exp_filtered.csv')"
   ]
  }
 ],
 "metadata": {
  "kernelspec": {
   "display_name": "Python 3",
   "language": "python",
   "name": "python3"
  },
  "language_info": {
   "codemirror_mode": {
    "name": "ipython",
    "version": 3
   },
   "file_extension": ".py",
   "mimetype": "text/x-python",
   "name": "python",
   "nbconvert_exporter": "python",
   "pygments_lexer": "ipython3",
   "version": "3.10.12"
  }
 },
 "nbformat": 4,
 "nbformat_minor": 2
}
